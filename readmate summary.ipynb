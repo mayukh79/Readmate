# 🧾 ReadMate – Logic & Summary Overview

## 💡 Project Summary

This notebook (`readmate summary.ipynb`) documents how the **ReadMate** chatbot processes user input and delivers recommendations through IBM Watson Assistant. While the AI logic is powered by Watson’s built-in NLP and rule-based dialog, the notebook simulates and explains this behavior step-by-step for educational understanding.

---

## ⚙️ Behind the Scenes: Simulated Watson Logic (Python Example)

> 📝 The following Python logic is **not used in production**, but mirrors the chatbot's reasoning flow.

```python
def recommend_book(intent, entity):
    if intent == "Genre_Search" and entity == "fantasy":
        return "Try 'Mistborn' by Brandon Sanderson."
    elif intent == "Mood_Based" and entity == "sad":
        return "You might like 'The Midnight Library' by Matt Haig."
    elif intent == "Author_Search" and entity == "dan brown":
        return "'Inferno' and 'The Da Vinci Code' are excellent choices."
    elif intent == "ReadingLevel" and entity == "beginner":
        return "'Charlotte’s Web' is a great book for beginners."
    else:
        return "Sorry, I couldn't find a match. Can you rephrase?"
